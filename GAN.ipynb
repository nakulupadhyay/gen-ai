{
  "nbformat": 4,
  "nbformat_minor": 0,
  "metadata": {
    "colab": {
      "provenance": []
    },
    "kernelspec": {
      "name": "python3",
      "display_name": "Python 3"
    },
    "language_info": {
      "name": "python"
    }
  },
  "cells": [
    {
      "cell_type": "code",
      "execution_count": 70,
      "metadata": {
        "id": "6WWAjMEZOAfM"
      },
      "outputs": [],
      "source": [
        "import tensorflow as tf\n",
        "from tensorflow import keras\n",
        "import numpy as np\n",
        "from keras.datasets.mnist import load_data\n",
        "from tensorflow.keras.optimizers import Adam\n",
        "from keras.models import Sequential\n",
        "import matplotlib.pyplot as plt\n"
      ]
    },
    {
      "cell_type": "code",
      "source": [
        "def discriminator(in_shape=(784,)):\n",
        "  model=Sequential()\n",
        "  model.add(keras.Input(shape=in_shape))\n",
        "  model.add(keras.layers.Dense(512,activation='leaky_relu'))\n",
        "  model.add(keras.layers.Dropout(0.3))\n",
        "  model.add(keras.layers.Dense(64,activation='leaky_relu'))\n",
        "  model.add(keras.layers.Dropout(0.3))\n",
        "  model.add(keras.layers.Dense(8,activation='leaky_relu'))\n",
        "  model.add(keras.layers.Dense(1,activation='sigmoid'))\n",
        "\n",
        "\n",
        "  model.compile(loss='binary_crossentropy',\n",
        "                optimizer=Adam(),\n",
        "                metrics=['accuracy'])\n",
        "\n",
        "\n",
        "  return model"
      ],
      "metadata": {
        "id": "pCraPp06OF7t"
      },
      "execution_count": 71,
      "outputs": []
    },
    {
      "cell_type": "code",
      "source": [
        "print(discriminator().summary())"
      ],
      "metadata": {
        "colab": {
          "base_uri": "https://localhost:8080/",
          "height": 35
        },
        "id": "CKwPr7dDQEd3",
        "outputId": "c7a9cb05-51fb-4c7d-c638-c7b19e6a5178"
      },
      "execution_count": 72,
      "outputs": [
        {
          "output_type": "display_data",
          "data": {
            "text/plain": [],
            "text/html": [
              "<pre style=\"white-space:pre;overflow-x:auto;line-height:normal;font-family:Menlo,'DejaVu Sans Mono',consolas,'Courier New',monospace\"></pre>\n"
            ]
          },
          "metadata": {}
        },
        {
          "output_type": "stream",
          "name": "stdout",
          "text": [
            "None\n"
          ]
        }
      ]
    },
    {
      "cell_type": "code",
      "source": [
        "def generator(rv_dim=50):\n",
        "  model=Sequential()\n",
        "  model.add(keras.Input(shape=(rv_dim,)))\n",
        "  model.add(keras.layers.Dense(64,activation='leaky_relu'))\n",
        "  model.add(keras.layers.Dense(256,activation='leaky_relu'))\n",
        "  model.add(keras.layers.Dropout(0.2))\n",
        "  model.add(keras.layers.Dense(512,activation='leaky_relu'))\n",
        "  model.add(keras.layers.Dense(784,activation='tanh'))\n",
        "\n",
        "  model.compile(loss='mse',\n",
        "                optimizer=Adam(),\n",
        "                metrics=['accuracy'])\n",
        "\n",
        "  return model"
      ],
      "metadata": {
        "id": "cShqHxbMQNGC"
      },
      "execution_count": 73,
      "outputs": []
    },
    {
      "cell_type": "code",
      "source": [
        "print(generator().summary())"
      ],
      "metadata": {
        "colab": {
          "base_uri": "https://localhost:8080/",
          "height": 35
        },
        "id": "xJ5XOJxOSD3v",
        "outputId": "1910648c-85da-4629-a55f-75893330ac46"
      },
      "execution_count": 74,
      "outputs": [
        {
          "output_type": "display_data",
          "data": {
            "text/plain": [],
            "text/html": [
              "<pre style=\"white-space:pre;overflow-x:auto;line-height:normal;font-family:Menlo,'DejaVu Sans Mono',consolas,'Courier New',monospace\"></pre>\n"
            ]
          },
          "metadata": {}
        },
        {
          "output_type": "stream",
          "name": "stdout",
          "text": [
            "None\n"
          ]
        }
      ]
    },
    {
      "cell_type": "code",
      "source": [
        "def gan_model(g_model,d_model):\n",
        "  model=Sequential()\n",
        "  model.add(g_model)\n",
        "  model.add(d_model)\n",
        "\n",
        "  model.compile(loss='binary_crossentropy',\n",
        "                optimizer=Adam(),\n",
        "                metrics=['accuracy'])\n",
        "\n",
        "  return model"
      ],
      "metadata": {
        "id": "ii7XA_PHSIBc"
      },
      "execution_count": 75,
      "outputs": []
    },
    {
      "cell_type": "code",
      "source": [
        "print(gan_model(generator(),discriminator()).summary())"
      ],
      "metadata": {
        "colab": {
          "base_uri": "https://localhost:8080/",
          "height": 35
        },
        "id": "d2OEk2cRTuCJ",
        "outputId": "aa316df7-8a42-47c5-b537-6e01a1aed359"
      },
      "execution_count": 76,
      "outputs": [
        {
          "output_type": "display_data",
          "data": {
            "text/plain": [],
            "text/html": [
              "<pre style=\"white-space:pre;overflow-x:auto;line-height:normal;font-family:Menlo,'DejaVu Sans Mono',consolas,'Courier New',monospace\"></pre>\n"
            ]
          },
          "metadata": {}
        },
        {
          "output_type": "stream",
          "name": "stdout",
          "text": [
            "None\n"
          ]
        }
      ]
    },
    {
      "cell_type": "code",
      "source": [
        "from re import X\n",
        "def load_real_data():\n",
        "  (X_train,_),(_,_) = load_data()\n",
        "  X_train=X_train.reshape(-1,784).astype('f8')-127.5\n",
        "  return X_train/127.5"
      ],
      "metadata": {
        "id": "uM6zHMmvT1eG"
      },
      "execution_count": 77,
      "outputs": []
    },
    {
      "cell_type": "code",
      "source": [
        "def generate_real_sample(data,n_samples=100):\n",
        "  ix=np.random.randint(0,data.shape[0],n_samples)\n",
        "  X_train=data[ix]\n",
        "  y=np.ones(shape=(X_train.shape[0],1))\n",
        "  return X_train,y"
      ],
      "metadata": {
        "id": "vF_YwYAbVO21"
      },
      "execution_count": 78,
      "outputs": []
    },
    {
      "cell_type": "code",
      "source": [
        "def generate_rv(rv_dim,n_samples=100):\n",
        "  return np.random.randn(n_samples,rv_dim)\n"
      ],
      "metadata": {
        "id": "1XKxPH2JV6UO"
      },
      "execution_count": 79,
      "outputs": []
    },
    {
      "cell_type": "code",
      "source": [
        "def generate_fake_images(g_model,rv_dim,n_samples=100):\n",
        "  rv=generate_rv(rv_dim,n_samples)\n",
        "  fimg=g_model.predict(rv)\n",
        "  y=np.zeros(shape=(n_samples,1))\n",
        "  return fimg,y"
      ],
      "metadata": {
        "id": "5CVZNcuJWPf3"
      },
      "execution_count": 80,
      "outputs": []
    },
    {
      "cell_type": "code",
      "source": [
        "def save_fig(g_model,rv_dim,e):\n",
        "  n=10\n",
        "  rv=generate_rv(rv_dim,n*n)\n",
        "  f_img=g_model.predict(rv)\n",
        "  for i in range(n*n):\n",
        "    plt.subplot(n,n,i+1)\n",
        "    plt.axis('off')\n",
        "    plt.imshow(f_img[i].reshape((28,28)),interpolation=\"nearest\",cmap='gray')\n",
        "  filename=f'/content/gan_output/generated_plot_e{e+1}.png'\n",
        "  plt.savefig(filename)\n",
        "  plt.close()"
      ],
      "metadata": {
        "id": "gjNnIaXObw5r"
      },
      "execution_count": 81,
      "outputs": []
    },
    {
      "cell_type": "code",
      "source": [
        "def train(g_model,d_model,gan_model,rv_dim,epochs=50,batch_size=250):\n",
        "  nbatchs=data.shape[0]//batch_size\n",
        "  half_batch=batch_size//2\n",
        "\n",
        "  for e in range(epochs):\n",
        "    for bn in range(nbatchs):\n",
        "      x_real,y_real=generate_real_sample(data,half_batch)\n",
        "      x_fake,y_fake=generate_fake_images(g_model,rv_dim,half_batch)\n",
        "\n",
        "      d_model.trainable=True\n",
        "\n",
        "      r_loss,_=d_model.train_on_batch(x_real,y_real)\n",
        "      f_loss,_=d_model.train_on_batch(x_fake,y_fake)\n",
        "\n",
        "      d_loss=0.5*(r_loss+f_loss)\n",
        "\n",
        "      d_model.trainable=False\n",
        "\n",
        "      x_gan=generate_rv(rv_dim,batch_size)\n",
        "      y=np.ones((batch_size,1))\n",
        "\n",
        "      g_loss=gan_model.train_on_batch(x_gan,y)\n",
        "\n",
        "    print(f'Epoch: {e+1},d_loss:{d_loss},g_loss:={g_loss}')\n",
        "    if (e+1)%10==0:\n",
        "      save_fig(g_model,rv_dim,e)"
      ],
      "metadata": {
        "id": "0poJ10tKWqdB"
      },
      "execution_count": 84,
      "outputs": []
    },
    {
      "cell_type": "code",
      "source": [
        "keras.utils.disable_interactive_logging()\n",
        "rv_dim=50\n",
        "g_model=generator(rv_dim)\n",
        "d_model=discriminator()\n",
        "gan=gan_model(g_model,d_model)\n",
        "data=load_real_data()\n",
        "train(g_model,d_model,gan,rv_dim)\n",
        "keras.utils.enable_interactive_logging()"
      ],
      "metadata": {
        "colab": {
          "base_uri": "https://localhost:8080/"
        },
        "id": "pJttdMOhdDkv",
        "outputId": "9563d9d3-d659-4eb1-9adc-f0a52134ebe8"
      },
      "execution_count": 85,
      "outputs": [
        {
          "output_type": "stream",
          "name": "stdout",
          "text": [
            "Epoch: 1,d_loss:0.22604407370090485,g_loss:=[array(5.9506006, dtype=float32), array(0.06033333, dtype=float32)]\n",
            "Epoch: 2,d_loss:0.2178111970424652,g_loss:=[array(5.6518636, dtype=float32), array(0.05220833, dtype=float32)]\n",
            "Epoch: 3,d_loss:0.22997745871543884,g_loss:=[array(5.1722465, dtype=float32), array(0.04652222, dtype=float32)]\n",
            "Epoch: 4,d_loss:0.22232642769813538,g_loss:=[array(4.9537067, dtype=float32), array(0.04075, dtype=float32)]\n",
            "Epoch: 5,d_loss:0.21296554803848267,g_loss:=[array(4.8192654, dtype=float32), array(0.03601333, dtype=float32)]\n",
            "Epoch: 6,d_loss:0.2059912085533142,g_loss:=[array(4.695736, dtype=float32), array(0.03353889, dtype=float32)]\n",
            "Epoch: 7,d_loss:0.20306801795959473,g_loss:=[array(4.626872, dtype=float32), array(0.03244524, dtype=float32)]\n",
            "Epoch: 8,d_loss:0.20568229258060455,g_loss:=[array(4.553083, dtype=float32), array(0.03261875, dtype=float32)]\n",
            "Epoch: 9,d_loss:0.2080811709165573,g_loss:=[array(4.4581113, dtype=float32), array(0.03289444, dtype=float32)]\n",
            "Epoch: 10,d_loss:0.21184110641479492,g_loss:=[array(4.3607173, dtype=float32), array(0.03396, dtype=float32)]\n",
            "Epoch: 11,d_loss:0.21924197673797607,g_loss:=[array(4.2378235, dtype=float32), array(0.03605303, dtype=float32)]\n",
            "Epoch: 12,d_loss:0.2271488904953003,g_loss:=[array(4.1143227, dtype=float32), array(0.03856111, dtype=float32)]\n",
            "Epoch: 13,d_loss:0.2326584756374359,g_loss:=[array(4.0132804, dtype=float32), array(0.04059487, dtype=float32)]\n",
            "Epoch: 14,d_loss:0.24282482266426086,g_loss:=[array(3.883574, dtype=float32), array(0.04365714, dtype=float32)]\n",
            "Epoch: 15,d_loss:0.24997058510780334,g_loss:=[array(3.778628, dtype=float32), array(0.04592444, dtype=float32)]\n",
            "Epoch: 16,d_loss:0.2570991516113281,g_loss:=[array(3.677899, dtype=float32), array(0.04820208, dtype=float32)]\n",
            "Epoch: 17,d_loss:0.2647542357444763,g_loss:=[array(3.582655, dtype=float32), array(0.05071275, dtype=float32)]\n",
            "Epoch: 18,d_loss:0.27282559871673584,g_loss:=[array(3.4966612, dtype=float32), array(0.05360833, dtype=float32)]\n",
            "Epoch: 19,d_loss:0.28074008226394653,g_loss:=[array(3.4192133, dtype=float32), array(0.0564886, dtype=float32)]\n",
            "Epoch: 20,d_loss:0.28846150636672974,g_loss:=[array(3.3460233, dtype=float32), array(0.05934583, dtype=float32)]\n",
            "Epoch: 21,d_loss:0.29650163650512695,g_loss:=[array(3.2721415, dtype=float32), array(0.06278889, dtype=float32)]\n",
            "Epoch: 22,d_loss:0.30353063344955444,g_loss:=[array(3.2047515, dtype=float32), array(0.06545454, dtype=float32)]\n",
            "Epoch: 23,d_loss:0.31027889251708984,g_loss:=[array(3.1444814, dtype=float32), array(0.06817392, dtype=float32)]\n",
            "Epoch: 24,d_loss:0.31810009479522705,g_loss:=[array(3.0822635, dtype=float32), array(0.07188056, dtype=float32)]\n",
            "Epoch: 25,d_loss:0.3236432671546936,g_loss:=[array(3.0289536, dtype=float32), array(0.07436334, dtype=float32)]\n",
            "Epoch: 26,d_loss:0.32935696840286255,g_loss:=[array(2.980085, dtype=float32), array(0.07690064, dtype=float32)]\n",
            "Epoch: 27,d_loss:0.33455365896224976,g_loss:=[array(2.9334676, dtype=float32), array(0.07940123, dtype=float32)]\n",
            "Epoch: 28,d_loss:0.33934271335601807,g_loss:=[array(2.8924828, dtype=float32), array(0.08146726, dtype=float32)]\n",
            "Epoch: 29,d_loss:0.34349286556243896,g_loss:=[array(2.8547647, dtype=float32), array(0.08348735, dtype=float32)]\n",
            "Epoch: 30,d_loss:0.34795960783958435,g_loss:=[array(2.81708, dtype=float32), array(0.08561222, dtype=float32)]\n",
            "Epoch: 31,d_loss:0.35205787420272827,g_loss:=[array(2.7812202, dtype=float32), array(0.08751559, dtype=float32)]\n",
            "Epoch: 32,d_loss:0.35579365491867065,g_loss:=[array(2.7496657, dtype=float32), array(0.08936302, dtype=float32)]\n",
            "Epoch: 33,d_loss:0.35902056097984314,g_loss:=[array(2.7189023, dtype=float32), array(0.09086919, dtype=float32)]\n",
            "Epoch: 34,d_loss:0.362770676612854,g_loss:=[array(2.6871476, dtype=float32), array(0.09272107, dtype=float32)]\n",
            "Epoch: 35,d_loss:0.36612212657928467,g_loss:=[array(2.6589777, dtype=float32), array(0.09440333, dtype=float32)]\n",
            "Epoch: 36,d_loss:0.3694864511489868,g_loss:=[array(2.63074, dtype=float32), array(0.09610093, dtype=float32)]\n",
            "Epoch: 37,d_loss:0.3727166950702667,g_loss:=[array(2.603493, dtype=float32), array(0.09782973, dtype=float32)]\n",
            "Epoch: 38,d_loss:0.3756474256515503,g_loss:=[array(2.5776176, dtype=float32), array(0.09941316, dtype=float32)]\n",
            "Epoch: 39,d_loss:0.3785718083381653,g_loss:=[array(2.5531776, dtype=float32), array(0.1009094, dtype=float32)]\n",
            "Epoch: 40,d_loss:0.38169336318969727,g_loss:=[array(2.5281239, dtype=float32), array(0.10263583, dtype=float32)]\n",
            "Epoch: 41,d_loss:0.3845112919807434,g_loss:=[array(2.505069, dtype=float32), array(0.1041565, dtype=float32)]\n",
            "Epoch: 42,d_loss:0.38738590478897095,g_loss:=[array(2.4831913, dtype=float32), array(0.10565397, dtype=float32)]\n",
            "Epoch: 43,d_loss:0.38981467485427856,g_loss:=[array(2.462143, dtype=float32), array(0.10691667, dtype=float32)]\n",
            "Epoch: 44,d_loss:0.3916977643966675,g_loss:=[array(2.4439003, dtype=float32), array(0.10792879, dtype=float32)]\n",
            "Epoch: 45,d_loss:0.3943074941635132,g_loss:=[array(2.4239442, dtype=float32), array(0.10931444, dtype=float32)]\n",
            "Epoch: 46,d_loss:0.397000789642334,g_loss:=[array(2.4031863, dtype=float32), array(0.11086921, dtype=float32)]\n",
            "Epoch: 47,d_loss:0.39952749013900757,g_loss:=[array(2.3833566, dtype=float32), array(0.11226773, dtype=float32)]\n",
            "Epoch: 48,d_loss:0.4016736149787903,g_loss:=[array(2.3653777, dtype=float32), array(0.1134316, dtype=float32)]\n",
            "Epoch: 49,d_loss:0.4040173292160034,g_loss:=[array(2.3474777, dtype=float32), array(0.11477891, dtype=float32)]\n",
            "Epoch: 50,d_loss:0.40594643354415894,g_loss:=[array(2.331595, dtype=float32), array(0.11592, dtype=float32)]\n"
          ]
        }
      ]
    },
    {
      "cell_type": "code",
      "source": [],
      "metadata": {
        "id": "ZZj4FD5-f3X7"
      },
      "execution_count": 85,
      "outputs": []
    }
  ]
}