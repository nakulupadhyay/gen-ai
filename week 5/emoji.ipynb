{
 "cells": [
  {
   "cell_type": "code",
   "execution_count": 1,
   "id": "9bdfca5d-049e-40e7-a7c6-41d7030ee3ac",
   "metadata": {},
   "outputs": [
    {
     "name": "stdout",
     "output_type": "stream",
     "text": [
      "Collecting emoji\n",
      "  Downloading emoji-2.14.1-py3-none-any.whl.metadata (5.7 kB)\n",
      "Downloading emoji-2.14.1-py3-none-any.whl (590 kB)\n",
      "   ---------------------------------------- 0.0/590.6 kB ? eta -:--:--\n",
      "   ---------------------------------------- 0.0/590.6 kB ? eta -:--:--\n",
      "   ---------------------------------------- 590.6/590.6 kB 4.2 MB/s eta 0:00:00\n",
      "Installing collected packages: emoji\n",
      "Successfully installed emoji-2.14.1\n"
     ]
    }
   ],
   "source": [
    "!pip install emoji"
   ]
  },
  {
   "cell_type": "code",
   "execution_count": 1,
   "id": "540a0486-fab6-441b-b504-e6d3a8e4a7bb",
   "metadata": {},
   "outputs": [],
   "source": [
    "import numpy as np\n",
    "import pandas as pd\n",
    "import emoji"
   ]
  },
  {
   "cell_type": "code",
   "execution_count": 2,
   "id": "c7be9445-090b-4153-9f41-5654715b74f7",
   "metadata": {},
   "outputs": [],
   "source": [
    "emoji_dictionary = {\"0\": \"\\u2764\\uFE0F\",\n",
    "                    \"1\": \":baseball:\",\n",
    "                    \"2\": \":beaming_face_with_smiling_eyes:\",\n",
    "                    \"3\": \":downcast_face_with_sweat:\",\n",
    "                    \"4\": \":fork_and_knife:\",\n",
    "                   }"
   ]
  },
  {
   "cell_type": "code",
   "execution_count": 3,
   "id": "ccb00376-0de1-4c94-b738-b5a315123534",
   "metadata": {},
   "outputs": [
    {
     "data": {
      "text/plain": [
       "'⚾'"
      ]
     },
     "execution_count": 3,
     "metadata": {},
     "output_type": "execute_result"
    }
   ],
   "source": [
    "emoji.emojize(\":baseball:\")"
   ]
  },
  {
   "cell_type": "code",
   "execution_count": 4,
   "id": "2fa9a58a-3343-481c-bb2f-3b398b0b68c2",
   "metadata": {},
   "outputs": [
    {
     "name": "stdout",
     "output_type": "stream",
     "text": [
      "❤️\n",
      "⚾\n",
      "😁\n",
      "😓\n",
      "🍴\n"
     ]
    }
   ],
   "source": [
    "for label in emoji_dictionary:\n",
    "    print(emoji.emojize(emoji_dictionary[label]))"
   ]
  },
  {
   "cell_type": "code",
   "execution_count": 5,
   "id": "64ce439a-79fd-430b-9276-4a19bf6613c8",
   "metadata": {},
   "outputs": [],
   "source": [
    "train = pd.read_csv('./train_emoji.csv',header=None)\n",
    "test = pd.read_csv('./test_emoji.csv',header=None)"
   ]
  },
  {
   "cell_type": "code",
   "execution_count": 6,
   "id": "9d8c62da-fe7b-41ef-b266-49a3cd0e501a",
   "metadata": {},
   "outputs": [
    {
     "data": {
      "text/html": [
       "<div>\n",
       "<style scoped>\n",
       "    .dataframe tbody tr th:only-of-type {\n",
       "        vertical-align: middle;\n",
       "    }\n",
       "\n",
       "    .dataframe tbody tr th {\n",
       "        vertical-align: top;\n",
       "    }\n",
       "\n",
       "    .dataframe thead th {\n",
       "        text-align: right;\n",
       "    }\n",
       "</style>\n",
       "<table border=\"1\" class=\"dataframe\">\n",
       "  <thead>\n",
       "    <tr style=\"text-align: right;\">\n",
       "      <th></th>\n",
       "      <th>0</th>\n",
       "      <th>1</th>\n",
       "      <th>2</th>\n",
       "      <th>3</th>\n",
       "    </tr>\n",
       "  </thead>\n",
       "  <tbody>\n",
       "    <tr>\n",
       "      <th>0</th>\n",
       "      <td>never talk to me again</td>\n",
       "      <td>3</td>\n",
       "      <td>NaN</td>\n",
       "      <td>NaN</td>\n",
       "    </tr>\n",
       "    <tr>\n",
       "      <th>1</th>\n",
       "      <td>I am proud of your achievements</td>\n",
       "      <td>2</td>\n",
       "      <td>NaN</td>\n",
       "      <td>NaN</td>\n",
       "    </tr>\n",
       "    <tr>\n",
       "      <th>2</th>\n",
       "      <td>It is the worst day in my life</td>\n",
       "      <td>3</td>\n",
       "      <td>NaN</td>\n",
       "      <td>NaN</td>\n",
       "    </tr>\n",
       "    <tr>\n",
       "      <th>3</th>\n",
       "      <td>Miss you so much</td>\n",
       "      <td>0</td>\n",
       "      <td>NaN</td>\n",
       "      <td>[0]</td>\n",
       "    </tr>\n",
       "    <tr>\n",
       "      <th>4</th>\n",
       "      <td>food is life</td>\n",
       "      <td>4</td>\n",
       "      <td>NaN</td>\n",
       "      <td>NaN</td>\n",
       "    </tr>\n",
       "  </tbody>\n",
       "</table>\n",
       "</div>"
      ],
      "text/plain": [
       "                                 0  1   2     3\n",
       "0           never talk to me again  3 NaN   NaN\n",
       "1  I am proud of your achievements  2 NaN   NaN\n",
       "2   It is the worst day in my life  3 NaN   NaN\n",
       "3                 Miss you so much  0 NaN   [0]\n",
       "4                     food is life  4 NaN   NaN"
      ]
     },
     "execution_count": 6,
     "metadata": {},
     "output_type": "execute_result"
    }
   ],
   "source": [
    "train.head()"
   ]
  },
  {
   "cell_type": "code",
   "execution_count": 7,
   "id": "0cf285f7-729c-40e7-b9a3-4ba13a7677c4",
   "metadata": {},
   "outputs": [
    {
     "name": "stdout",
     "output_type": "stream",
     "text": [
      "never talk to me again ---> 😓\n",
      "I am proud of your achievements ---> 😁\n",
      "It is the worst day in my life ---> 😓\n",
      "Miss you so much ---> ❤️\n",
      "food is life ---> 🍴\n",
      "I love you mum ---> ❤️\n",
      "Stop saying bullshit ---> 😓\n",
      "congratulations on your acceptance ---> 😁\n",
      "The assignment is too long  ---> 😓\n",
      "I want to go play ---> ⚾\n",
      "she did not answer my text  ---> 😓\n",
      "Your stupidity has no limit ---> 😓\n",
      "how many points did he score ---> ⚾\n",
      "my algorithm performs poorly ---> 😓\n",
      "I got approved ---> 😁\n",
      "Stop shouting at me ---> 😓\n",
      "Sounds like a fun plan ha ha ---> 😁\n",
      "no one likes him ---> 😓\n",
      "the game just finished ---> ⚾\n",
      "I will celebrate soon ---> 😁\n",
      "So sad you are not coming ---> 😓\n",
      "She is my dearest love ---> ❤️\n",
      "Good job ---> 😁\n",
      "It was funny lol ---> 😁\n",
      "candy is life  ---> 😁\n",
      "The chicago cubs won again ---> ⚾\n",
      "I am hungry ---> 🍴\n",
      "I am so excited to see you after so long ---> 😁\n",
      "you did well on you exam ---> 😁\n",
      "lets brunch some day ---> 🍴\n"
     ]
    }
   ],
   "source": [
    "for i in range(30):\n",
    "    print(train.iloc[i,0],'--->',emoji.emojize(emoji_dictionary[str(train.iloc[i,1])]))"
   ]
  },
  {
   "cell_type": "code",
   "execution_count": 8,
   "id": "f7cd2d4b-6acf-46df-88d3-5762afdc0598",
   "metadata": {},
   "outputs": [],
   "source": [
    "embeddings = {}\n",
    "with open('glove.6B.50d.txt',encoding='utf-8') as f:\n",
    "    for line in f:\n",
    "        val=line.split()\n",
    "        word=val[0]\n",
    "        vector=np.array(val[1:],dtype='f4')\n",
    "\n",
    "        embeddings[word]=vector"
   ]
  },
  {
   "cell_type": "code",
   "execution_count": 9,
   "id": "9398b89c-6f10-4ea6-8908-125d19e393d1",
   "metadata": {},
   "outputs": [
    {
     "name": "stdout",
     "output_type": "stream",
     "text": [
      "[ 4.1800e-01  2.4968e-01 -4.1242e-01  1.2170e-01  3.4527e-01 -4.4457e-02\n",
      " -4.9688e-01 -1.7862e-01 -6.6023e-04 -6.5660e-01  2.7843e-01 -1.4767e-01\n",
      " -5.5677e-01  1.4658e-01 -9.5095e-03  1.1658e-02  1.0204e-01 -1.2792e-01\n",
      " -8.4430e-01 -1.2181e-01 -1.6801e-02 -3.3279e-01 -1.5520e-01 -2.3131e-01\n",
      " -1.9181e-01 -1.8823e+00 -7.6746e-01  9.9051e-02 -4.2125e-01 -1.9526e-01\n",
      "  4.0071e+00 -1.8594e-01 -5.2287e-01 -3.1681e-01  5.9213e-04  7.4449e-03\n",
      "  1.7778e-01 -1.5897e-01  1.2041e-02 -5.4223e-02 -2.9871e-01 -1.5749e-01\n",
      " -3.4758e-01 -4.5637e-02 -4.4251e-01  1.8785e-01  2.7849e-03 -1.8411e-01\n",
      " -1.1514e-01 -7.8581e-01]\n"
     ]
    }
   ],
   "source": [
    "print(embeddings['the'])"
   ]
  },
  {
   "cell_type": "code",
   "execution_count": 10,
   "id": "ff5abc2a-7086-4292-a68c-a1ef96ace118",
   "metadata": {},
   "outputs": [
    {
     "name": "stdout",
     "output_type": "stream",
     "text": [
      "(132,)\n",
      "(56,)\n",
      "(132, 5)\n",
      "(56, 5)\n"
     ]
    }
   ],
   "source": [
    "from keras.utils import to_categorical\n",
    "X_train=train[0]\n",
    "X_test=test[0]\n",
    "\n",
    "y_train=to_categorical(train[1])\n",
    "y_test=to_categorical(test[1])\n",
    "\n",
    "print(X_train.shape)\n",
    "print(X_test.shape)\n",
    "print(y_train.shape)\n",
    "print(y_test.shape)"
   ]
  },
  {
   "cell_type": "code",
   "execution_count": 11,
   "id": "067a97f9-3bef-4a0a-bc00-54d5a07e999e",
   "metadata": {},
   "outputs": [],
   "source": [
    "def getEmbeddings(X):\n",
    "    embeddingData = np.zeros((X.shape[0],10,50))\n",
    "    for ix in range(X.shape[0]):\n",
    "        words = X.iloc[ix].lower().split()\n",
    "        for jx in range(len(words)):\n",
    "            embeddingData[ix,jx,:] = embeddings.get(words[jx],np.zeros(50,))\n",
    "    return embeddingData"
   ]
  },
  {
   "cell_type": "code",
   "execution_count": 12,
   "id": "c3afa2be-e2f4-4dc3-b206-ae1d5c7bee66",
   "metadata": {},
   "outputs": [],
   "source": [
    "emb_Xt=getEmbeddings(X_test)"
   ]
  },
  {
   "cell_type": "code",
   "execution_count": 13,
   "id": "f048ec3a-4314-41e8-b501-d32bf6a5a089",
   "metadata": {},
   "outputs": [],
   "source": [
    "emb_XT = getEmbeddings(X_test)"
   ]
  },
  {
   "cell_type": "code",
   "execution_count": 14,
   "id": "f45c4b6a-b790-450e-b2fa-d3db80bddbd2",
   "metadata": {},
   "outputs": [
    {
     "name": "stdout",
     "output_type": "stream",
     "text": [
      "(56, 10, 50)\n"
     ]
    }
   ],
   "source": [
    "print(emb_Xt.shape)"
   ]
  },
  {
   "cell_type": "code",
   "execution_count": 15,
   "id": "5a2a755a-7649-48bd-9de1-30263298ec78",
   "metadata": {},
   "outputs": [],
   "source": [
    "from keras.layers import Dense,LSTM,Dropout\n",
    "from keras.models import Sequential\n",
    "from keras import Input"
   ]
  },
  {
   "cell_type": "code",
   "execution_count": 16,
   "id": "8412b315-b61c-422d-a55b-7954aeacf9f2",
   "metadata": {},
   "outputs": [
    {
     "name": "stdout",
     "output_type": "stream",
     "text": [
      "Model: \"sequential\"\n",
      "_________________________________________________________________\n",
      " Layer (type)                Output Shape              Param #   \n",
      "=================================================================\n",
      " lstm (LSTM)                 (None, 10, 32)            10624     \n",
      "                                                                 \n",
      " lstm_1 (LSTM)               (None, 16)                3136      \n",
      "                                                                 \n",
      " dropout (Dropout)           (None, 16)                0         \n",
      "                                                                 \n",
      " dense (Dense)               (None, 5)                 85        \n",
      "                                                                 \n",
      "=================================================================\n",
      "Total params: 13,845\n",
      "Trainable params: 13,845\n",
      "Non-trainable params: 0\n",
      "_________________________________________________________________\n"
     ]
    }
   ],
   "source": [
    "model = Sequential()\n",
    "model.add(Input(shape=(10,50)))\n",
    "model.add(LSTM(32,return_sequences=True))\n",
    "model.add(LSTM(16))\n",
    "model.add(Dropout(0.3))\n",
    "model.add(Dense(5,activation='softmax'))\n",
    "model.summary()"
   ]
  },
  {
   "cell_type": "code",
   "execution_count": 17,
   "id": "9542cafb-59be-4067-93b0-6fb3429f77c0",
   "metadata": {},
   "outputs": [
    {
     "name": "stdout",
     "output_type": "stream",
     "text": [
      "Epoch 1/40\n",
      "2/2 [==============================] - 5s 956ms/step - loss: 1.6104 - accuracy: 0.2800 - val_loss: 1.5695 - val_accuracy: 0.6667\n",
      "Epoch 2/40\n",
      "2/2 [==============================] - 0s 41ms/step - loss: 1.5998 - accuracy: 0.3000 - val_loss: 1.5572 - val_accuracy: 0.5000\n",
      "Epoch 3/40\n",
      "2/2 [==============================] - 0s 45ms/step - loss: 1.5904 - accuracy: 0.3400 - val_loss: 1.5466 - val_accuracy: 0.5000\n",
      "Epoch 4/40\n",
      "2/2 [==============================] - 0s 48ms/step - loss: 1.6016 - accuracy: 0.2600 - val_loss: 1.5359 - val_accuracy: 0.5000\n",
      "Epoch 5/40\n",
      "2/2 [==============================] - 0s 49ms/step - loss: 1.5760 - accuracy: 0.2800 - val_loss: 1.5284 - val_accuracy: 0.5000\n",
      "Epoch 6/40\n",
      "2/2 [==============================] - 0s 41ms/step - loss: 1.5704 - accuracy: 0.3000 - val_loss: 1.5182 - val_accuracy: 0.5000\n",
      "Epoch 7/40\n",
      "2/2 [==============================] - 0s 40ms/step - loss: 1.5458 - accuracy: 0.2600 - val_loss: 1.5078 - val_accuracy: 0.6667\n",
      "Epoch 8/40\n",
      "2/2 [==============================] - 0s 39ms/step - loss: 1.5233 - accuracy: 0.4800 - val_loss: 1.4968 - val_accuracy: 0.6667\n",
      "Epoch 9/40\n",
      "2/2 [==============================] - 0s 40ms/step - loss: 1.5189 - accuracy: 0.4400 - val_loss: 1.4872 - val_accuracy: 0.6667\n",
      "Epoch 10/40\n",
      "2/2 [==============================] - 0s 39ms/step - loss: 1.5088 - accuracy: 0.4600 - val_loss: 1.4756 - val_accuracy: 0.5000\n",
      "Epoch 11/40\n",
      "2/2 [==============================] - 0s 39ms/step - loss: 1.5033 - accuracy: 0.3000 - val_loss: 1.4634 - val_accuracy: 0.5000\n",
      "Epoch 12/40\n",
      "2/2 [==============================] - 0s 40ms/step - loss: 1.4938 - accuracy: 0.4400 - val_loss: 1.4541 - val_accuracy: 0.5000\n",
      "Epoch 13/40\n",
      "2/2 [==============================] - 0s 41ms/step - loss: 1.4598 - accuracy: 0.4200 - val_loss: 1.4455 - val_accuracy: 0.5000\n",
      "Epoch 14/40\n",
      "2/2 [==============================] - 0s 39ms/step - loss: 1.4709 - accuracy: 0.3600 - val_loss: 1.4348 - val_accuracy: 0.5000\n",
      "Epoch 15/40\n",
      "2/2 [==============================] - 0s 41ms/step - loss: 1.4576 - accuracy: 0.3800 - val_loss: 1.4273 - val_accuracy: 0.5000\n",
      "Epoch 16/40\n",
      "2/2 [==============================] - 0s 40ms/step - loss: 1.4054 - accuracy: 0.5400 - val_loss: 1.4187 - val_accuracy: 0.5000\n",
      "Epoch 17/40\n",
      "2/2 [==============================] - 0s 43ms/step - loss: 1.4497 - accuracy: 0.4400 - val_loss: 1.4068 - val_accuracy: 0.5000\n",
      "Epoch 18/40\n",
      "2/2 [==============================] - 0s 41ms/step - loss: 1.4239 - accuracy: 0.4200 - val_loss: 1.3879 - val_accuracy: 0.5000\n",
      "Epoch 19/40\n",
      "2/2 [==============================] - 0s 39ms/step - loss: 1.3945 - accuracy: 0.5200 - val_loss: 1.3699 - val_accuracy: 0.6667\n",
      "Epoch 20/40\n",
      "2/2 [==============================] - 0s 41ms/step - loss: 1.3764 - accuracy: 0.4600 - val_loss: 1.3531 - val_accuracy: 0.6667\n",
      "Epoch 21/40\n",
      "2/2 [==============================] - 0s 42ms/step - loss: 1.3667 - accuracy: 0.3800 - val_loss: 1.3334 - val_accuracy: 0.6667\n",
      "Epoch 22/40\n",
      "2/2 [==============================] - 0s 40ms/step - loss: 1.3326 - accuracy: 0.4200 - val_loss: 1.3188 - val_accuracy: 0.6667\n",
      "Epoch 23/40\n",
      "2/2 [==============================] - 0s 40ms/step - loss: 1.3450 - accuracy: 0.4400 - val_loss: 1.3041 - val_accuracy: 0.6667\n",
      "Epoch 24/40\n",
      "2/2 [==============================] - 0s 39ms/step - loss: 1.2856 - accuracy: 0.5200 - val_loss: 1.2892 - val_accuracy: 0.6667\n",
      "Epoch 25/40\n",
      "2/2 [==============================] - 0s 40ms/step - loss: 1.3239 - accuracy: 0.5200 - val_loss: 1.2755 - val_accuracy: 0.6667\n",
      "Epoch 26/40\n",
      "2/2 [==============================] - 0s 41ms/step - loss: 1.2962 - accuracy: 0.5400 - val_loss: 1.2648 - val_accuracy: 0.6667\n",
      "Epoch 27/40\n",
      "2/2 [==============================] - 0s 41ms/step - loss: 1.2648 - accuracy: 0.5200 - val_loss: 1.2567 - val_accuracy: 0.6667\n",
      "Epoch 28/40\n",
      "2/2 [==============================] - 0s 44ms/step - loss: 1.2684 - accuracy: 0.4800 - val_loss: 1.2512 - val_accuracy: 0.6667\n",
      "Epoch 29/40\n",
      "2/2 [==============================] - 0s 40ms/step - loss: 1.2836 - accuracy: 0.5200 - val_loss: 1.2502 - val_accuracy: 0.6667\n",
      "Epoch 30/40\n",
      "2/2 [==============================] - 0s 42ms/step - loss: 1.2266 - accuracy: 0.5800 - val_loss: 1.2557 - val_accuracy: 0.6667\n",
      "Epoch 31/40\n",
      "2/2 [==============================] - 0s 39ms/step - loss: 1.1797 - accuracy: 0.5400 - val_loss: 1.2658 - val_accuracy: 0.6667\n",
      "Epoch 32/40\n",
      "2/2 [==============================] - 0s 38ms/step - loss: 1.1713 - accuracy: 0.5400 - val_loss: 1.2796 - val_accuracy: 0.6667\n",
      "Epoch 33/40\n",
      "2/2 [==============================] - 0s 41ms/step - loss: 1.1771 - accuracy: 0.5800 - val_loss: 1.3088 - val_accuracy: 0.6667\n",
      "Epoch 34/40\n",
      "2/2 [==============================] - 0s 40ms/step - loss: 1.1552 - accuracy: 0.5600 - val_loss: 1.3328 - val_accuracy: 0.5000\n",
      "Epoch 35/40\n",
      "2/2 [==============================] - 0s 49ms/step - loss: 1.1137 - accuracy: 0.5200 - val_loss: 1.3130 - val_accuracy: 0.6667\n",
      "Epoch 36/40\n",
      "2/2 [==============================] - 0s 44ms/step - loss: 1.1314 - accuracy: 0.5200 - val_loss: 1.3296 - val_accuracy: 0.6667\n",
      "Epoch 37/40\n",
      "2/2 [==============================] - 0s 48ms/step - loss: 1.1033 - accuracy: 0.6400 - val_loss: 1.3340 - val_accuracy: 0.6667\n",
      "Epoch 38/40\n",
      "2/2 [==============================] - 0s 44ms/step - loss: 1.0493 - accuracy: 0.6200 - val_loss: 1.3418 - val_accuracy: 0.6667\n",
      "Epoch 39/40\n",
      "2/2 [==============================] - 0s 49ms/step - loss: 1.0072 - accuracy: 0.6600 - val_loss: 1.3800 - val_accuracy: 0.6667\n",
      "Epoch 40/40\n",
      "2/2 [==============================] - 0s 43ms/step - loss: 1.0477 - accuracy: 0.5600 - val_loss: 1.3893 - val_accuracy: 0.6667\n"
     ]
    },
    {
     "data": {
      "text/plain": [
       "<keras.callbacks.History at 0x1eea703a4c0>"
      ]
     },
     "execution_count": 17,
     "metadata": {},
     "output_type": "execute_result"
    }
   ],
   "source": [
    "model.compile(\n",
    "    optimizer='adam',\n",
    "    loss='categorical_crossentropy',\n",
    "    metrics=['accuracy'])\n",
    "model.fit(emb_XT,y_train,batch_size=32,epochs=40,shuffle=True,validation_split=0.1)"
   ]
  },
  {
   "cell_type": "code",
   "execution_count": 18,
   "id": "d0d55bb7-b1a9-4579-8b7b-10a92f448e25",
   "metadata": {},
   "outputs": [
    {
     "name": "stdout",
     "output_type": "stream",
     "text": [
      "2/2 [==============================] - 0s 7ms/step - loss: 1.5807 - accuracy: 0.3571\n"
     ]
    },
    {
     "data": {
      "text/plain": [
       "[1.5806982517242432, 0.3571428656578064]"
      ]
     },
     "execution_count": 18,
     "metadata": {},
     "output_type": "execute_result"
    }
   ],
   "source": [
    "model.evaluate(emb_Xt,y_test)"
   ]
  },
  {
   "cell_type": "code",
   "execution_count": 19,
   "id": "e119edd4-0362-46e0-b4ca-57e8d583c5c4",
   "metadata": {},
   "outputs": [
    {
     "name": "stdout",
     "output_type": "stream",
     "text": [
      "2/2 [==============================] - 1s 6ms/step\n"
     ]
    }
   ],
   "source": [
    "ypred = model.predict(emb_Xt)"
   ]
  },
  {
   "cell_type": "code",
   "execution_count": 20,
   "id": "cef5399c-25d2-4ed8-97e9-2926536ac2aa",
   "metadata": {},
   "outputs": [
    {
     "name": "stdout",
     "output_type": "stream",
     "text": [
      "I want to eat\t\n",
      "🍴\n",
      "😓\n",
      "he did not answer\t\n",
      "😓\n",
      "😓\n",
      "he got a raise\t\n",
      "😁\n",
      "😓\n",
      "she got me a present\t\n",
      "❤️\n",
      "❤️\n",
      "ha ha ha it was so funny\t\n",
      "😁\n",
      "🍴\n",
      "he is a good friend\t\n",
      "❤️\n",
      "😁\n",
      "I am upset\t\n",
      "❤️\n",
      "😓\n",
      "We had such a lovely dinner tonight\t\n",
      "❤️\n",
      "😁\n",
      "where is the food\t\n",
      "🍴\n",
      "😓\n",
      "Stop making this joke ha ha ha\t\n",
      "😁\n",
      "😓\n",
      "where is the ball\t\n",
      "⚾\n",
      "😓\n",
      "work is hard\t\n",
      "😓\n",
      "😓\n",
      "This girl is messing with me\t\n",
      "😓\n",
      "😁\n",
      "are you serious ha ha\t\n",
      "😁\n",
      "😓\n",
      "Let us go play baseball\t\n",
      "⚾\n",
      "😁\n",
      "This stupid grader is not working \t\n",
      "😓\n",
      "😓\n",
      "work is horrible\t\n",
      "😓\n",
      "😓\n",
      "Congratulation for having a baby\t\n",
      "😁\n",
      "😓\n",
      "stop messing around\t\n",
      "😓\n",
      "😓\n",
      "any suggestions for dinner\t\n",
      "🍴\n",
      "😁\n",
      "I love taking breaks\t\n",
      "❤️\n",
      "😓\n",
      "you brighten my day\t\n",
      "😁\n",
      "😁\n",
      "I boiled rice\t\n",
      "🍴\n",
      "😁\n",
      "she is a bully\t\n",
      "😓\n",
      "😁\n",
      "Why are you feeling bad\t\n",
      "😓\n",
      "😓\n",
      "I am upset\t\n",
      "😓\n",
      "😓\n",
      "I worked during my birthday\t\n",
      "😓\n",
      "❤️\n",
      "My grandmother is the love of my life\t\n",
      "❤️\n",
      "😁\n",
      "enjoy your break\t\n",
      "😁\n",
      "😁\n",
      "valentine day is near\t\n",
      "❤️\n",
      "😓\n"
     ]
    }
   ],
   "source": [
    "for i in range(30):\n",
    "    print(X_test.iloc[i])\n",
    "    print(emoji.emojize(emoji_dictionary[str(np.argmax(y_test[i]))]))\n",
    "    print(emoji.emojize(emoji_dictionary[str(np.argmax(ypred[i]))]))"
   ]
  },
  {
   "cell_type": "code",
   "execution_count": null,
   "id": "e2f54b8c-b079-46aa-8b31-104e41d28c36",
   "metadata": {},
   "outputs": [],
   "source": []
  },
  {
   "cell_type": "code",
   "execution_count": null,
   "id": "3158c25a-2097-4111-aac2-0ed997b5b4db",
   "metadata": {},
   "outputs": [],
   "source": []
  }
 ],
 "metadata": {
  "kernelspec": {
   "display_name": "Python 3 (ipykernel)",
   "language": "python",
   "name": "python3"
  },
  "language_info": {
   "codemirror_mode": {
    "name": "ipython",
    "version": 3
   },
   "file_extension": ".py",
   "mimetype": "text/x-python",
   "name": "python",
   "nbconvert_exporter": "python",
   "pygments_lexer": "ipython3",
   "version": "3.9.18"
  }
 },
 "nbformat": 4,
 "nbformat_minor": 5
}
