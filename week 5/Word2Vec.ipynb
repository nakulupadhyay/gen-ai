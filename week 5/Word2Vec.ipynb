{
 "cells": [
  {
   "cell_type": "code",
   "execution_count": 7,
   "id": "26e51c0b-2d5a-4e00-8b92-0e1d2b679cde",
   "metadata": {},
   "outputs": [],
   "source": [
    "import gensim\n",
    "from gensim.models import word2vec\n",
    "from gensim.models import KeyedVectors\n",
    "from sklearn.metrics.pairwise import cosine_similarity\n",
    "import scipy\n",
    "import numpy"
   ]
  },
  {
   "cell_type": "code",
   "execution_count": 8,
   "id": "e3252e72-3215-4c72-95ef-b393b0d5376b",
   "metadata": {},
   "outputs": [
    {
     "name": "stdout",
     "output_type": "stream",
     "text": [
      "4.3.3\n"
     ]
    }
   ],
   "source": [
    "print(gensim.__version__)"
   ]
  },
  {
   "cell_type": "code",
   "execution_count": 9,
   "id": "29926f53-cedd-4f1d-b35e-2fc5ea20c0b0",
   "metadata": {},
   "outputs": [
    {
     "name": "stdout",
     "output_type": "stream",
     "text": [
      "1.13.1 1.26.4\n"
     ]
    }
   ],
   "source": [
    "print(scipy.__version__,numpy.__version__)"
   ]
  },
  {
   "cell_type": "code",
   "execution_count": 10,
   "id": "9ba62e33-316e-453d-a8f7-50cf33f2b652",
   "metadata": {},
   "outputs": [],
   "source": [
    "path=r\"./GoogleNews-vectors-negative300.bin\""
   ]
  },
  {
   "cell_type": "code",
   "execution_count": 11,
   "id": "e71f5a94-35e8-4f64-81fa-4ef3b8a09d15",
   "metadata": {},
   "outputs": [],
   "source": [
    "word_vectors=KeyedVectors.load_word2vec_format(path,binary=True)"
   ]
  },
  {
   "cell_type": "code",
   "execution_count": 12,
   "id": "456ee4c0-472c-4420-bf5e-666c6f32a8b3",
   "metadata": {},
   "outputs": [],
   "source": [
    "v_apple = word_vectors[\"India\"] \n",
    "v_mango = word_vectors[\"Delhi\"]"
   ]
  },
  {
   "cell_type": "code",
   "execution_count": 13,
   "id": "8c84a04d-2833-40d0-83b2-7413e304fd55",
   "metadata": {},
   "outputs": [
    {
     "name": "stdout",
     "output_type": "stream",
     "text": [
      "(300,)\n",
      "(300,)\n",
      "[-3.24707031e-02  6.10351562e-02  1.72851562e-01  2.53906250e-01\n",
      " -1.97265625e-01 -1.55273438e-01  1.06933594e-01 -2.31445312e-01\n",
      " -2.09960938e-01 -2.58789062e-02 -1.32812500e-01 -1.04492188e-01\n",
      "  3.32031250e-01 -1.74804688e-01  1.45874023e-02 -7.12890625e-02\n",
      "  1.62353516e-02  6.59179688e-02 -1.54418945e-02  5.12695312e-02\n",
      "  7.05718994e-05 -1.47460938e-01  2.57873535e-03 -1.23046875e-01\n",
      "  1.02539062e-01  1.39648438e-01 -3.88671875e-01 -1.63085938e-01\n",
      " -8.93554688e-02  7.27539062e-02 -9.66796875e-02 -2.79296875e-01\n",
      " -4.23828125e-01  4.24804688e-02  2.74658203e-02 -8.74023438e-02\n",
      " -2.17773438e-01 -5.34667969e-02  2.91015625e-01  3.44238281e-02\n",
      "  8.44726562e-02  8.15429688e-02 -3.78417969e-02  2.40234375e-01\n",
      " -2.89306641e-02 -2.33154297e-02 -2.27539062e-01  7.51953125e-02\n",
      "  1.80664062e-01  2.92968750e-02  5.20019531e-02  1.51367188e-01\n",
      "  1.47247314e-03 -2.85644531e-02  2.56347656e-02  3.12500000e-02\n",
      " -1.76757812e-01 -1.55273438e-01  2.92968750e-02 -2.12890625e-01\n",
      "  1.16577148e-02 -2.09960938e-02 -4.51660156e-02 -1.06933594e-01\n",
      " -1.21093750e-01  2.19726562e-01  5.76171875e-02  8.59375000e-02\n",
      "  2.63671875e-02 -1.18164062e-01 -3.39843750e-01  4.41894531e-02\n",
      " -5.98144531e-02 -2.86865234e-02 -1.37329102e-02 -3.16406250e-01\n",
      "  8.78906250e-03  1.25976562e-01 -1.59179688e-01  1.63085938e-01\n",
      "  8.77380371e-04  2.39257812e-02  2.09960938e-02 -4.93164062e-02\n",
      " -9.27734375e-02 -1.02996826e-03 -8.48388672e-03 -8.00781250e-02\n",
      "  9.52148438e-02  3.01513672e-02  6.73828125e-02  1.01562500e-01\n",
      " -3.35937500e-01 -5.49316406e-02 -1.42578125e-01 -2.47802734e-02\n",
      "  1.51367188e-01 -1.01074219e-01  2.57812500e-01  3.90625000e-02\n",
      " -1.57226562e-01 -5.63964844e-02  1.33666992e-02  4.32128906e-02\n",
      "  1.64794922e-02 -8.44726562e-02  1.16699219e-01 -4.37011719e-02\n",
      " -2.60009766e-02  1.47460938e-01 -8.20312500e-02  2.81982422e-02\n",
      " -9.76562500e-02 -1.45507812e-01  2.36328125e-01  1.44531250e-01\n",
      " -5.68847656e-02 -2.29492188e-01  4.14062500e-01  1.03515625e-01\n",
      " -8.00781250e-02  6.49414062e-02 -1.74804688e-01  1.26953125e-01\n",
      " -4.19921875e-01  1.68945312e-01  7.76367188e-02 -2.31933594e-02\n",
      " -2.27539062e-01 -6.49414062e-02 -2.13867188e-01  2.55859375e-01\n",
      " -3.05175781e-02 -2.08984375e-01 -2.55126953e-02 -9.57031250e-02\n",
      " -3.19824219e-02  1.25000000e-01 -7.95898438e-02  4.32128906e-02\n",
      "  2.30468750e-01 -1.63085938e-01  1.05468750e-01  3.36914062e-02\n",
      " -1.43554688e-01  3.97949219e-02  1.32812500e-01  9.37500000e-02\n",
      "  1.58203125e-01  8.25195312e-02  1.89453125e-01 -3.04687500e-01\n",
      "  9.17968750e-02 -2.33398438e-01 -1.17187500e-01 -4.29687500e-01\n",
      " -4.51171875e-01 -3.19824219e-02  1.48437500e-01  9.71679688e-02\n",
      " -1.80664062e-01 -3.61328125e-01 -5.00488281e-03 -1.57226562e-01\n",
      "  2.12890625e-01 -3.90625000e-01  1.63574219e-02 -5.90820312e-02\n",
      "  1.44531250e-01  1.45507812e-01 -2.63671875e-01  1.56250000e-01\n",
      "  8.83789062e-02 -2.07031250e-01  1.99218750e-01 -3.35937500e-01\n",
      "  2.71484375e-01 -3.02734375e-01 -2.08007812e-01 -2.37304688e-01\n",
      "  8.30078125e-03 -7.91015625e-02 -9.03320312e-02 -1.52343750e-01\n",
      "  2.17773438e-01  8.05664062e-02  2.89062500e-01  1.68945312e-01\n",
      "  2.03125000e-01  9.91210938e-02 -2.73437500e-01 -5.37109375e-02\n",
      " -3.71093750e-01 -1.07910156e-01  9.17968750e-02  1.92382812e-01\n",
      "  8.44726562e-02 -1.24023438e-01  6.83593750e-02 -2.45117188e-01\n",
      "  1.36718750e-01 -2.03125000e-01  9.17968750e-02 -1.03027344e-01\n",
      " -4.76074219e-03  2.37304688e-01 -1.98242188e-01 -3.37890625e-01\n",
      "  2.88085938e-02 -4.80957031e-02 -7.03125000e-02  7.75146484e-03\n",
      "  5.21850586e-03 -1.92871094e-02 -4.83398438e-02  1.06445312e-01\n",
      "  3.73535156e-02  3.63281250e-01 -8.59375000e-02 -7.37304688e-02\n",
      " -8.34960938e-02  3.78417969e-02 -2.08984375e-01  1.67968750e-01\n",
      " -1.95312500e-01 -1.06811523e-02 -1.19018555e-03 -1.72851562e-01\n",
      "  2.27539062e-01  4.78515625e-02 -3.14453125e-01  9.91210938e-02\n",
      "  3.16406250e-01 -6.68945312e-02  1.45507812e-01  3.41796875e-02\n",
      " -4.37011719e-02  7.66601562e-02 -6.44531250e-02 -1.04003906e-01\n",
      "  1.45507812e-01  6.54296875e-02  4.22363281e-02 -1.73339844e-02\n",
      " -2.30712891e-02  2.42919922e-02 -9.57031250e-02 -2.94921875e-01\n",
      "  1.37695312e-01 -2.79541016e-02  1.18652344e-01 -1.08398438e-01\n",
      "  1.33789062e-01  1.33789062e-01  7.51953125e-02  2.05078125e-01\n",
      "  1.24511719e-01 -6.34765625e-02 -3.73535156e-02 -1.31835938e-01\n",
      "  3.51562500e-02  8.74023438e-02  2.73437500e-01 -5.61523438e-02\n",
      "  1.40625000e-01  6.20117188e-02 -2.34375000e-01 -6.88476562e-02\n",
      "  1.82617188e-01 -2.05078125e-02 -1.10839844e-01 -3.88183594e-02\n",
      "  1.11816406e-01 -1.53320312e-01  2.04101562e-01 -6.22558594e-02\n",
      " -3.11279297e-02  1.40625000e-01 -1.05957031e-01 -2.83203125e-02\n",
      "  5.66406250e-02 -9.08203125e-02 -1.17675781e-01  8.54492188e-03\n",
      " -4.34570312e-02 -4.07714844e-02 -5.54199219e-02  1.83105469e-02\n",
      " -1.20605469e-01  1.83593750e-01  1.58203125e-01 -4.71191406e-02\n",
      " -2.06298828e-02 -1.72119141e-02 -1.20605469e-01 -9.03320312e-02\n",
      " -6.78710938e-02  1.31835938e-01 -1.19628906e-01 -8.44726562e-02]\n"
     ]
    }
   ],
   "source": [
    "print(v_apple.shape)\n",
    "print(v_mango.shape)\n",
    "print(v_apple)"
   ]
  },
  {
   "cell_type": "code",
   "execution_count": 14,
   "id": "d29c7a03-944c-4a7d-8814-79ce9ae5a78d",
   "metadata": {},
   "outputs": [
    {
     "data": {
      "text/plain": [
       "array([[0.66320366]], dtype=float32)"
      ]
     },
     "execution_count": 14,
     "metadata": {},
     "output_type": "execute_result"
    }
   ],
   "source": [
    "cosine_similarity([v_mango],[v_apple])"
   ]
  },
  {
   "cell_type": "code",
   "execution_count": 15,
   "id": "54a372cc-23d1-43e2-b1f1-a130a5c4a2b9",
   "metadata": {},
   "outputs": [],
   "source": [
    "import numpy as np"
   ]
  },
  {
   "cell_type": "code",
   "execution_count": 16,
   "id": "42eb0a1e-bbc5-4459-845d-e2902b23755e",
   "metadata": {},
   "outputs": [],
   "source": [
    "def odd_one_out(words):\n",
    "    \"\"\"Accepts a list of words and returns the odd word\"\"\"\n",
    "    all_word_vectors = [word_vectors[w] for w in words]\n",
    "    avg_vector = np.mean(all_word_vectors,axis=0)\n",
    "    print(avg_vector.shape)\n",
    "    odd_one_out = None\n",
    "    min_similarity = 1.0 \n",
    "    \n",
    "    for w in words:\n",
    "        sim = cosine_similarity([word_vectors[w]],[avg_vector])\n",
    "        if sim < min_similarity:\n",
    "            min_similarity = sim\n",
    "            odd_one_out = w\n",
    "    \n",
    "        print(\"Similairy btw %s and avg vector is %.2f\"%(w,sim[0][0]))\n",
    "            \n",
    "    return odd_one_out"
   ]
  },
  {
   "cell_type": "code",
   "execution_count": 17,
   "id": "b997ac93-f01b-4869-bced-c0b3b78b9936",
   "metadata": {},
   "outputs": [],
   "source": [
    "input_1 = [\"apple\",\"mango\",\"juice\",\"party\",\"orange\"] \n",
    "input_2 = [\"music\",\"dance\",\"sleep\",\"dancer\",\"food\"]        \n",
    "input_3  = [\"match\",\"player\",\"football\",\"cricket\",\"dancer\"]\n",
    "input_4 = [\"india\",\"italy\",\"england\",\"france\",\"germany\"]"
   ]
  },
  {
   "cell_type": "code",
   "execution_count": 18,
   "id": "f64a6528-0140-44c6-b668-387b5a7cbf8b",
   "metadata": {},
   "outputs": [
    {
     "name": "stdout",
     "output_type": "stream",
     "text": [
      "(300,)\n",
      "Similairy btw apple and avg vector is 0.78\n",
      "Similairy btw mango and avg vector is 0.76\n",
      "Similairy btw juice and avg vector is 0.71\n",
      "Similairy btw party and avg vector is 0.36\n",
      "Similairy btw orange and avg vector is 0.65\n"
     ]
    },
    {
     "data": {
      "text/plain": [
       "'party'"
      ]
     },
     "execution_count": 18,
     "metadata": {},
     "output_type": "execute_result"
    }
   ],
   "source": [
    "odd_one_out(input_1) "
   ]
  },
  {
   "cell_type": "code",
   "execution_count": 19,
   "id": "ca9024ec-95ed-494d-8fb3-29c219ec2126",
   "metadata": {},
   "outputs": [
    {
     "name": "stdout",
     "output_type": "stream",
     "text": [
      "(300,)\n",
      "Similairy btw music and avg vector is 0.66\n",
      "Similairy btw dance and avg vector is 0.81\n",
      "Similairy btw sleep and avg vector is 0.51\n",
      "Similairy btw dancer and avg vector is 0.72\n",
      "Similairy btw food and avg vector is 0.52\n"
     ]
    },
    {
     "data": {
      "text/plain": [
       "'sleep'"
      ]
     },
     "execution_count": 19,
     "metadata": {},
     "output_type": "execute_result"
    }
   ],
   "source": [
    "odd_one_out(input_2) "
   ]
  },
  {
   "cell_type": "code",
   "execution_count": 20,
   "id": "d59b67fe-afcc-45e1-afd6-0428ae6f316b",
   "metadata": {},
   "outputs": [
    {
     "name": "stdout",
     "output_type": "stream",
     "text": [
      "(300,)\n",
      "Similairy btw match and avg vector is 0.58\n",
      "Similairy btw player and avg vector is 0.68\n",
      "Similairy btw football and avg vector is 0.72\n",
      "Similairy btw cricket and avg vector is 0.70\n",
      "Similairy btw dancer and avg vector is 0.53\n"
     ]
    },
    {
     "data": {
      "text/plain": [
       "'dancer'"
      ]
     },
     "execution_count": 20,
     "metadata": {},
     "output_type": "execute_result"
    }
   ],
   "source": [
    "odd_one_out(input_3) "
   ]
  },
  {
   "cell_type": "code",
   "execution_count": 21,
   "id": "4c8400fa-2081-42ee-af77-a7259feb5fbe",
   "metadata": {},
   "outputs": [
    {
     "name": "stdout",
     "output_type": "stream",
     "text": [
      "(300,)\n",
      "Similairy btw india and avg vector is 0.79\n",
      "Similairy btw italy and avg vector is 0.81\n",
      "Similairy btw england and avg vector is 0.84\n",
      "Similairy btw france and avg vector is 0.83\n",
      "Similairy btw germany and avg vector is 0.83\n"
     ]
    },
    {
     "data": {
      "text/plain": [
       "'india'"
      ]
     },
     "execution_count": 21,
     "metadata": {},
     "output_type": "execute_result"
    }
   ],
   "source": [
    "odd_one_out(input_4) "
   ]
  },
  {
   "cell_type": "code",
   "execution_count": 22,
   "id": "4dc8785e-bdb8-4478-b4f1-3ff953a71ec1",
   "metadata": {},
   "outputs": [
    {
     "data": {
      "text/plain": [
       "3000000"
      ]
     },
     "execution_count": 22,
     "metadata": {},
     "output_type": "execute_result"
    }
   ],
   "source": [
    "len(word_vectors.index_to_key)"
   ]
  },
  {
   "cell_type": "code",
   "execution_count": 23,
   "id": "7d8671f8-ae87-47f4-b0c0-178f61074f6d",
   "metadata": {},
   "outputs": [
    {
     "data": {
      "text/plain": [
       "(300,)"
      ]
     },
     "execution_count": 23,
     "metadata": {},
     "output_type": "execute_result"
    }
   ],
   "source": [
    "word_vectors[\"man\"].shape"
   ]
  },
  {
   "cell_type": "code",
   "execution_count": 24,
   "id": "206ea8a4-fec8-47bc-b58c-97eb1ccfbed2",
   "metadata": {},
   "outputs": [],
   "source": [
    "def predict_word(a,b,c,word_vectors):\n",
    "    \"\"\"Accepts a triad of words, a,b,c and returns d such that a is to b : c is to d\"\"\"\n",
    "    a,b,c = a.lower(),b.lower(),c.lower()\n",
    "    \n",
    "    # similarity |b-a| = |d-c| should be max\n",
    "    max_similarity = -100 \n",
    "    \n",
    "    d = None\n",
    "    \n",
    "    words = list(word_vectors.index_to_key)\n",
    "    \n",
    "    wa,wb,wc = word_vectors[a],word_vectors[b],word_vectors[c]\n",
    "    \n",
    "    #to find d s.t similarity(|b-a|,|d-c|) should be max\n",
    "    \n",
    "    for w in words:\n",
    "        if w in [a,b,c]:\n",
    "            continue\n",
    "        \n",
    "        wv = word_vectors[w]\n",
    "        sim = cosine_similarity([wb-wa],[wv-wc])\n",
    "        \n",
    "        if sim > max_similarity:\n",
    "            max_similarity = sim\n",
    "            d = w\n",
    "            \n",
    "    return d    "
   ]
  },
  {
   "cell_type": "code",
   "execution_count": null,
   "id": "0182ac29-9498-4e6f-9984-21c8fcce442b",
   "metadata": {},
   "outputs": [],
   "source": [
    "triad_2 = (\"man\",\"woman\",\"prince\")\n",
    "predict_word(*triad_2,word_vectors)"
   ]
  },
  {
   "cell_type": "code",
   "execution_count": null,
   "id": "56ad409f-fa40-4981-ba49-5fc1798efe28",
   "metadata": {},
   "outputs": [],
   "source": [
    "word_vectors.most_similar(positive=['Son', 'Mother'], negative=['Father'], topn=10)"
   ]
  },
  {
   "cell_type": "code",
   "execution_count": null,
   "id": "8fe74859-cc46-4fb0-83af-556433d7d302",
   "metadata": {},
   "outputs": [],
   "source": []
  }
 ],
 "metadata": {
  "kernelspec": {
   "display_name": "Python 3 (ipykernel)",
   "language": "python",
   "name": "python3"
  },
  "language_info": {
   "codemirror_mode": {
    "name": "ipython",
    "version": 3
   },
   "file_extension": ".py",
   "mimetype": "text/x-python",
   "name": "python",
   "nbconvert_exporter": "python",
   "pygments_lexer": "ipython3",
   "version": "3.9.18"
  }
 },
 "nbformat": 4,
 "nbformat_minor": 5
}
